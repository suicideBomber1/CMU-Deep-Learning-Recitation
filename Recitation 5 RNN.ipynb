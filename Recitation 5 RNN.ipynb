{
 "cells": [
  {
   "cell_type": "markdown",
   "metadata": {},
   "source": [
    "### Data downloaded from https://www.kaggle.com/kingburrito666/better-donald-trump-tweets/data"
   ]
  },
  {
   "cell_type": "code",
   "execution_count": 11,
   "metadata": {
    "collapsed": true
   },
   "outputs": [],
   "source": [
    "import numpy as np\n",
    "from collections import Counter"
   ]
  },
  {
   "cell_type": "code",
   "execution_count": 14,
   "metadata": {
    "collapsed": true
   },
   "outputs": [],
   "source": [
    "history_length = 3\n",
    "\n",
    "def process_input(filename):\n",
    "    text = open(filename).read()\n",
    "    sequences = [text[i:i+history_length] for i in range(int(len(text)/history_length))]\n",
    "    stats = Counter(sequences)\n",
    "    tokens = []\n",
    "    counts = []\n",
    "    for i in stats.most_common():\n",
    "        tokens.append(i[0])\n",
    "        counts.append(i[1])\n",
    "    return stats\n",
    "\n",
    "def next_char(cur, stats):\n",
    "    seed = cur[1:]\n",
    "    candidates = []\n",
    "    candidatec = []\n",
    "    for k in stats.keys():\n",
    "        if seed == k[:-1]:\n",
    "            candidates.append(k)\n",
    "            candidatec.append(stats[k])\n",
    "    candidatep = [x/sum(candidatec) for x in candidatec]\n",
    "    return candidates[np.random.choice(len(candidates), p=candidatep)]\n",
    "\n",
    "def sample(length, running_state, stats):\n",
    "    output = ''\n",
    "    for i in range(length):\n",
    "        output += running_state[0]\n",
    "        running_state = next_char(running_state, stats)\n",
    "    return output"
   ]
  },
  {
   "cell_type": "code",
   "execution_count": 15,
   "metadata": {},
   "outputs": [
    {
     "data": {
      "text/plain": [
       "'obamil sh  dibizonlyised sed new govemit co zvknow'"
      ]
     },
     "execution_count": 15,
     "metadata": {},
     "output_type": "execute_result"
    }
   ],
   "source": [
    "tweets_stats = process_input('tweets.txt')\n",
    "sample(50, 'oba', tweets_stats)"
   ]
  },
  {
   "cell_type": "code",
   "execution_count": 22,
   "metadata": {},
   "outputs": [
    {
     "data": {
      "text/plain": [
       "'obamazing scrimes  afters any of the   ver  ters b'"
      ]
     },
     "execution_count": 22,
     "metadata": {},
     "output_type": "execute_result"
    }
   ],
   "source": [
    "history_length = 4\n",
    "\n",
    "tweets_stats = process_input('tweets.txt')\n",
    "sample(50, 'obam', tweets_stats)"
   ]
  },
  {
   "cell_type": "code",
   "execution_count": 23,
   "metadata": {},
   "outputs": [
    {
     "data": {
      "text/plain": [
       "'and to say we end the mind that fles, and that fle'"
      ]
     },
     "execution_count": 23,
     "metadata": {},
     "output_type": "execute_result"
    }
   ],
   "source": [
    "hamlet_stats = process_input('hamlet.txt')\n",
    "sample(50, 'and ', hamlet_stats)"
   ]
  },
  {
   "cell_type": "markdown",
   "metadata": {},
   "source": [
    "\n",
    "* Above method just uses the history upto a certain number of characters to match the characters. But, there is no context of language generation, eventhough we increase the history length and also it is more memorization than text generation. \n",
    "> RNN's shine better in such cases."
   ]
  },
  {
   "cell_type": "markdown",
   "metadata": {},
   "source": [
    "## RNN using PyTorch"
   ]
  },
  {
   "cell_type": "code",
   "execution_count": 44,
   "metadata": {},
   "outputs": [
    {
     "data": {
      "image/png": "[encoded data removed]",
      "text/plain": [
       "<matplotlib.figure.Figure at 0x1133d9390>"
      ]
     },
     "metadata": {},
     "output_type": "display_data"
    }
   ],
   "source": [
    "import torch\n",
    "import torch.nn as nn\n",
    "from torch.autograd import Variable\n",
    "import torch.optim as optim\n",
    "import matplotlib\n",
    "# matplotlib.use('Agg')\n",
    "import matplotlib.pyplot as plt\n",
    "\n",
    "np.random.seed(0)\n",
    "torch.manual_seed(0)\n",
    "\n",
    "T = 80 # range from which ints are sampled\n",
    "L = 1000 # Length of the sequence\n",
    "N = 100 # Number of examples\n",
    "\n",
    "future = 1000 # Length of the sequence to predict\n",
    "\n",
    "# Generating time series data\n",
    "x = np.empty((N, L), 'int64')\n",
    "x[:] = np.array(range(L)) + np.random.randint(-4*T, 4*T, N).reshape(N, 1)\n",
    "data = np.sin(x/1.0/T).astype('float64')\n",
    "\n",
    "# Visulizing the input data\n",
    "plt.plot(x, data, 'ro')\n",
    "plt.show()"
   ]
  },
  {
   "cell_type": "code",
   "execution_count": 53,
   "metadata": {},
   "outputs": [],
   "source": [
    "class Sequence(nn.Module):\n",
    "    def __init__(self):\n",
    "        super(Sequence, self).__init__()\n",
    "        self.lstm1 = nn.LSTMCell(1, 32)\n",
    "        self.lstm2 = nn.LSTMCell(32, 32)\n",
    "        self.linear = nn.Linear(32, 1)\n",
    "    def forward(self, input, future=0):\n",
    "        outputs = []\n",
    "        h_t = Variable(torch.zeros(input.size(0), 32).double(), requires_grad=False)\n",
    "        c_t = Variable(torch.zeros(input.size(0), 32).double(), requires_grad=False)\n",
    "        h_t2 = Variable(torch.zeros(input.size(0), 32).double(), requires_grad=False)\n",
    "        c_t2 = Variable(torch.zeros(input.size(0), 32).double(), requires_grad=False)\n",
    "        \n",
    "        for i, input_t in enumerate(input.chunk(input.size(1), dim=1)):\n",
    "            h_t, c_t = self.lstm1(input_t, (h_t, c_t))\n",
    "            h_t2, c_t2 = self.lstm2(h_t, (h_t2, c_t2))\n",
    "            output = self.linear(h_t2)\n",
    "            outputs += [output]\n",
    "        for i in range(future):# if we should predict the future\n",
    "            h_t, c_t = self.lstm1(output, (h_t, c_t))\n",
    "            h_t2, c_t2 = self.lstm2(h_t, (h_t2, c_t2))\n",
    "            output = self.linear(h_t2)\n",
    "            outputs += [output]\n",
    "        outputs = torch.stack(outputs, 1).squeeze(2)\n",
    "        return outputs\n",
    "    \n",
    "def save_plot_wave(y_gen):\n",
    "    plt.figure(figsize=(30, 10))\n",
    "    plt.title('Predict future values for time sequence', fontsize=30)\n",
    "    plt.xlabel('x', fontsize=20)\n",
    "    plt.ylabel('y', fontsize=20)\n",
    "    plt.xticks(fontsize=20)\n",
    "    plt.yticks(fontsize=20)\n",
    "    plt.plot(np.arange(input.size(1)), y_gen[0][:input.size(1)], 'b', linewidth=2.0)\n",
    "    plt.plot(np.arange(input.size(1), input.size(1)+future), y_gen[0][input.size(1):], 'b'+':', linewidth=2.0)\n",
    "    plt.savefig('predicted%d.pdf'%i)\n",
    "    plt.close()\n",
    "    "
   ]
  },
  {
   "cell_type": "code",
   "execution_count": 48,
   "metadata": {
    "collapsed": true
   },
   "outputs": [],
   "source": [
    "input = Variable(torch.from_numpy(data[1:, :-1]), requires_grad=False)\n",
    "target = Variable(torch.from_numpy(data[1:, 1:]), requires_grad=False)\n",
    "test_input = Variable(torch.from_numpy(data[:1, :-1]), requires_grad=False)\n",
    "test_target = Variable(torch.from_numpy(data[:1, 1:]), requires_grad = False)"
   ]
  },
  {
   "cell_type": "code",
   "execution_count": 54,
   "metadata": {},
   "outputs": [
    {
     "name": "stdout",
     "output_type": "stream",
     "text": [
      "Step:  0\n",
      "Loss: 0.516380324626\n",
      "Loss: 0.497592573371\n",
      "Loss: 0.470569010796\n",
      "Loss: 0.456216711725\n",
      "Loss: 0.393666559957\n",
      "Loss: 1.65155456462\n",
      "Loss: 0.278070944432\n",
      "Loss: 0.177961647481\n",
      "Loss: 3.36771876436\n",
      "Loss: 0.0299007703389\n",
      "Loss: 0.0108930218262\n",
      "Loss: 0.00759165235046\n",
      "Loss: 0.00722119699241\n",
      "Loss: 0.00693554349076\n",
      "Loss: 0.00636568045592\n",
      "Loss: 0.0055249328318\n",
      "Loss: 0.00449744715725\n",
      "Loss: 0.0037286760957\n",
      "Loss: 0.00356010611745\n",
      "Loss: 0.00352051438588\n",
      "Test loss: 0.00309448016137\n",
      "Step:  1\n",
      "Loss: 0.00346174323829\n",
      "Loss: 0.00330873190325\n",
      "Loss: 0.00294094703106\n",
      "Loss: 0.00209040120307\n",
      "Loss: 0.00135959128856\n",
      "Loss: 0.00106475542988\n",
      "Loss: 0.000960154317636\n",
      "Loss: 0.000923589575787\n",
      "Loss: 0.000901479715146\n",
      "Loss: 0.000887053423266\n",
      "Loss: 0.000863068552769\n",
      "Loss: 0.000797854431623\n",
      "Loss: 0.000657260841894\n",
      "Loss: 0.00314928170681\n",
      "Loss: 0.000544998709543\n",
      "Loss: 0.000529940174493\n",
      "Loss: 0.000483158670381\n",
      "Loss: 0.000434186480961\n",
      "Loss: 0.000430319375456\n",
      "Loss: 0.00041734653318\n",
      "Test loss: 0.000370317587974\n",
      "Step:  2\n",
      "Loss: 0.000414776536912\n",
      "Loss: 0.000395217890129\n",
      "Loss: 0.000383935191792\n",
      "Loss: 0.000369627643007\n",
      "Loss: 0.000350905743637\n",
      "Loss: 0.000333226757175\n",
      "Loss: 0.000319750079553\n",
      "Loss: 0.000312487238171\n",
      "Loss: 0.00030545712346\n",
      "Loss: 0.00029579500772\n",
      "Loss: 0.000267058446159\n",
      "Loss: 0.000216278678754\n",
      "Loss: 0.000210463769709\n",
      "Loss: 0.000195643902742\n",
      "Loss: 0.000175507566332\n",
      "Loss: 0.000172617599382\n",
      "Loss: 0.000154617883221\n",
      "Loss: 0.000145649626385\n",
      "Loss: 0.000140301946069\n",
      "Loss: 0.00013642532787\n",
      "Test loss: 0.000104150984465\n",
      "Step:  3\n",
      "Loss: 0.0001248754801\n",
      "Loss: 9.69976108392e-05\n",
      "Loss: 7.65998387662e-05\n",
      "Loss: 7.25769007421e-05\n",
      "Loss: 6.60842899768e-05\n",
      "Loss: 6.31319715741e-05\n",
      "Loss: 6.24919504268e-05\n",
      "Loss: 6.19437820422e-05\n",
      "Loss: 6.06678308301e-05\n",
      "Loss: 5.918894465e-05\n",
      "Loss: 5.8018973216e-05\n",
      "Loss: 5.75371227876e-05\n",
      "Loss: 5.72405616542e-05\n",
      "Loss: 5.70448465567e-05\n",
      "Loss: 5.6889145282e-05\n",
      "Loss: 5.68312347798e-05\n",
      "Loss: 5.67682358985e-05\n",
      "Loss: 5.66748551289e-05\n",
      "Loss: 5.65759631212e-05\n",
      "Loss: 5.64669902862e-05\n",
      "Test loss: 4.04180054394e-05\n",
      "Step:  4\n",
      "Loss: 5.63482074137e-05\n",
      "Loss: 5.62081574555e-05\n",
      "Loss: 5.59384682798e-05\n",
      "Loss: 5.50626186832e-05\n",
      "Loss: 5.28710951404e-05\n",
      "Loss: 4.96443435084e-05\n",
      "Loss: 4.63762107707e-05\n",
      "Loss: 5.00447976572e-05\n",
      "Loss: 4.58705258533e-05\n",
      "Loss: 4.18211804417e-05\n",
      "Loss: 3.93778558606e-05\n",
      "Loss: 3.82996458417e-05\n",
      "Loss: 3.61829305267e-05\n",
      "Loss: 3.48635977904e-05\n",
      "Loss: 3.38727009688e-05\n",
      "Loss: 3.33881136804e-05\n",
      "Loss: 3.31540884771e-05\n",
      "Loss: 3.28717174441e-05\n",
      "Loss: 3.28005857625e-05\n",
      "Loss: 3.27173310177e-05\n",
      "Test loss: 2.71113645186e-05\n",
      "Step:  5\n",
      "Loss: 3.24069007713e-05\n",
      "Loss: 3.2029349761e-05\n",
      "Loss: 3.12756231742e-05\n",
      "Loss: 3.0172187393e-05\n",
      "Loss: 2.96781384098e-05\n",
      "Loss: 2.92874381846e-05\n",
      "Loss: 2.97494732925e-05\n",
      "Loss: 2.88828216257e-05\n",
      "Loss: 2.86296612477e-05\n",
      "Loss: 2.84948779231e-05\n",
      "Loss: 2.7973164802e-05\n",
      "Loss: 2.77794367675e-05\n",
      "Loss: 2.74346338856e-05\n",
      "Loss: 2.72596877641e-05\n",
      "Loss: 2.70115003378e-05\n",
      "Loss: 2.68043557498e-05\n",
      "Loss: 2.66570733974e-05\n",
      "Loss: 2.65436734527e-05\n",
      "Loss: 2.63439681915e-05\n",
      "Loss: 2.60051427453e-05\n",
      "Test loss: 1.726209752e-05\n",
      "Step:  6\n",
      "Loss: 2.54501152072e-05\n",
      "Loss: 2.46226227233e-05\n",
      "Loss: 2.41647510979e-05\n",
      "Loss: 2.40926382609e-05\n",
      "Loss: 2.40662740919e-05\n",
      "Loss: 2.40538373945e-05\n",
      "Loss: 2.40401313581e-05\n",
      "Loss: 2.39994892287e-05\n",
      "Loss: 2.39904744739e-05\n",
      "Loss: 2.39807820036e-05\n",
      "Loss: 2.39674452778e-05\n",
      "Loss: 2.3923073336e-05\n",
      "Loss: 2.38355409512e-05\n",
      "Loss: 2.36493230782e-05\n",
      "Loss: 2.32172948205e-05\n",
      "Loss: 2.22592680195e-05\n",
      "Loss: 2.14751632745e-05\n",
      "Loss: 2.62012942329e-05\n",
      "Loss: 1.99549220913e-05\n",
      "Loss: 1.87108023013e-05\n",
      "Test loss: 3.47789793681e-05\n",
      "Step:  7\n",
      "Loss: 3.79363983855e-05\n",
      "Loss: 1.69414669229e-05\n",
      "Loss: 1.6042422652e-05\n",
      "Loss: 1.9152017915e-05\n",
      "Loss: 1.42337680855e-05\n",
      "Loss: 1.37506250411e-05\n",
      "Loss: 1.27288497629e-05\n",
      "Loss: 1.189093227e-05\n",
      "Loss: 1.16263800604e-05\n",
      "Loss: 1.13068549717e-05\n",
      "Loss: 1.0987549036e-05\n",
      "Loss: 1.06441516015e-05\n",
      "Loss: 1.014034363e-05\n",
      "Loss: 9.53483317885e-06\n",
      "Loss: 9.06801139205e-06\n",
      "Loss: 7.04428000614e-06\n",
      "Loss: 6.4318431029e-06\n",
      "Loss: 6.24077018213e-06\n",
      "Loss: 6.07850913612e-06\n",
      "Loss: 5.91441963467e-06\n",
      "Test loss: 6.39309011457e-06\n",
      "Step:  8\n",
      "Loss: 5.82859026216e-06\n",
      "Loss: 5.75623674699e-06\n",
      "Loss: 5.68247059008e-06\n",
      "Loss: 5.60384355449e-06\n",
      "Loss: 5.55837791626e-06\n",
      "Loss: 5.46553390326e-06\n",
      "Loss: 5.22235350753e-06\n",
      "Loss: 4.93019728548e-06\n",
      "Loss: 4.59638634295e-06\n",
      "Loss: 4.06241856152e-06\n",
      "Loss: 4.16218525664e-06\n",
      "Loss: 3.94085817211e-06\n",
      "Loss: 3.67176504194e-06\n",
      "Loss: 3.56515450044e-06\n",
      "Loss: 3.50926162808e-06\n",
      "Loss: 3.45959618758e-06\n",
      "Loss: 3.39285148061e-06\n",
      "Loss: 3.34702603337e-06\n",
      "Loss: 3.32259685737e-06\n",
      "Loss: 3.3104453767e-06\n",
      "Test loss: 2.18737734898e-06\n",
      "Step:  9\n",
      "Loss: 3.30740183516e-06\n",
      "Loss: 3.30232266913e-06\n",
      "Loss: 3.29830133533e-06\n",
      "Loss: 3.28737769784e-06\n",
      "Loss: 3.2691159922e-06\n",
      "Loss: 3.24177568101e-06\n",
      "Loss: 3.21387911724e-06\n",
      "Loss: 3.19683637346e-06\n",
      "Loss: 3.18590377157e-06\n",
      "Loss: 3.17587611506e-06\n",
      "Loss: 3.17206353803e-06\n",
      "Loss: 3.16997876729e-06\n",
      "Loss: 3.15638877679e-06\n",
      "Loss: 3.04319629768e-06\n",
      "Loss: 2.93330735453e-06\n",
      "Loss: 2.8375729312e-06\n",
      "Loss: 2.90714630609e-06\n",
      "Loss: 2.69604099842e-06\n",
      "Loss: 2.64340369809e-06\n",
      "Loss: 2.56688608503e-06\n",
      "Test loss: 1.829920588e-06\n",
      "Step:  10\n",
      "Loss: 2.53450968599e-06\n",
      "Loss: 2.51067102462e-06\n",
      "Loss: 2.48911540223e-06\n",
      "Loss: 2.47067299241e-06\n",
      "Loss: 2.45343886939e-06\n",
      "Loss: 2.44212505632e-06\n",
      "Loss: 2.43613504398e-06\n",
      "Loss: 2.43133778461e-06\n",
      "Loss: 2.42714571044e-06\n",
      "Loss: 2.42105921054e-06\n",
      "Loss: 2.41231459264e-06\n",
      "Loss: 2.40320292743e-06\n",
      "Loss: 2.39464364801e-06\n",
      "Loss: 2.38524732968e-06\n",
      "Loss: 2.36429997656e-06\n",
      "Loss: 2.32414208886e-06\n",
      "Loss: 2.26041119543e-06\n",
      "Loss: 2.16397186806e-06\n",
      "Loss: 2.04628265882e-06\n",
      "Loss: 2.08660208472e-06\n",
      "Test loss: 1.41649601853e-06\n"
     ]
    }
   ],
   "source": [
    "seq = Sequence()\n",
    "seq.double()\n",
    "criterion = nn.MSELoss()\n",
    "optimizer = optim.LBFGS(seq.parameters(), lr=0.8)\n",
    "#begin to train\n",
    "for i in range(11):\n",
    "    print('Step: ', i)\n",
    "    def closure():\n",
    "        optimizer.zero_grad()\n",
    "        out = seq(input)\n",
    "        loss = criterion(out, target)\n",
    "        print('Loss:', loss.data.numpy()[0])\n",
    "        loss.backward()\n",
    "        return loss\n",
    "    optimizer.step(closure)\n",
    "    # begin to predict\n",
    "    pred = seq(test_input, future = future)\n",
    "    loss = criterion(pred[:, :-future], test_target)\n",
    "    print('Test loss:', loss.data.numpy()[0])\n",
    "    y = pred.data.numpy()\n",
    "    save_plot_wave(y)"
   ]
  },
  {
   "cell_type": "code",
   "execution_count": null,
   "metadata": {
    "collapsed": true
   },
   "outputs": [],
   "source": []
  },
  {
   "cell_type": "code",
   "execution_count": null,
   "metadata": {
    "collapsed": true
   },
   "outputs": [],
   "source": []
  },
  {
   "cell_type": "code",
   "execution_count": null,
   "metadata": {
    "collapsed": true
   },
   "outputs": [],
   "source": []
  },
  {
   "cell_type": "code",
   "execution_count": null,
   "metadata": {
    "collapsed": true
   },
   "outputs": [],
   "source": []
  }
 ],
 "metadata": {
  "kernelspec": {
   "display_name": "Python 3",
   "language": "python",
   "name": "python3"
  },
  "language_info": {
   "codemirror_mode": {
    "name": "ipython",
    "version": 3
   },
   "file_extension": ".py",
   "mimetype": "text/x-python",
   "name": "python",
   "nbconvert_exporter": "python",
   "pygments_lexer": "ipython3",
   "version": "3.6.1"
  }
 },
 "nbformat": 4,
 "nbformat_minor": 2
}
